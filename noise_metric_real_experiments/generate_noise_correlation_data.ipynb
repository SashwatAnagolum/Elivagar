{
 "cells": [
  {
   "cell_type": "markdown",
   "metadata": {},
   "source": [
    "## Imports"
   ]
  },
  {
   "cell_type": "code",
   "execution_count": 22,
   "metadata": {},
   "outputs": [],
   "source": [
    "import os\n",
    "import numpy as np\n",
    "import pennylane as qml\n",
    "import matplotlib.pyplot as plt"
   ]
  },
  {
   "cell_type": "code",
   "execution_count": 4,
   "metadata": {},
   "outputs": [],
   "source": [
    "from create_noise_models import noisy_dev_from_backend\n",
    "from create_gate_circs import create_batched_gate_circ, get_circ_params, generate_true_random_gate_circ\n",
    "from metrics import compute_noise_metric"
   ]
  },
  {
   "cell_type": "markdown",
   "metadata": {},
   "source": [
    "## Generate some circuits to compute the noise metric for"
   ]
  },
  {
   "cell_type": "code",
   "execution_count": 7,
   "metadata": {},
   "outputs": [],
   "source": [
    "num_qubits = 4\n",
    "num_embeds = 0 # do not need to worry about dataset, so no data embeddings required\n",
    "num_circs_to_generate = 25 # number of circuits to generate\n",
    "\n",
    "store_dir = './noise_metric_circuits' # folder you want to store all the circuits in\n",
    "\n",
    "if not os.path.exists(store_dir):\n",
    "    os.mkdir(store_dir)\n",
    "\n",
    "for i in range(25):\n",
    "    curr_circ_dir = os.path.join(store_dir, f'circ_{i + 1}')\n",
    "        \n",
    "    if not os.path.exists(curr_circ_dir):\n",
    "        os.mkdir(curr_circ_dir)\n",
    "        \n",
    "    ent_prob = np.random.sample() # probability / proportion of 2-qubit gates in circuit\n",
    "    cxz = np.random.sample() # proportion of 2-qubit gates that are cx / cz gates\n",
    "    pauli = 0 # proportion of 2-qubit gates that are XX / YY / ZZ gates\n",
    "    \n",
    "    num_params = np.random.randint(5, 10) # you can change this if you want to\n",
    "\n",
    "    circ_gates, gate_params, inputs_bounds, weights_bounds = generate_true_random_gate_circ(num_qubits, num_embeds, num_params, \n",
    "                                                                                            ent_prob=ent_prob, \n",
    "                                                                                            cxz_prob=cxz * ent_prob,\n",
    "                                                                                            pauli_prob=pauli * (1 - cxz) * ent_prob)\n",
    "\n",
    "    # save circuit information in text files\n",
    "    \n",
    "    np.savetxt(curr_circ_dir + '/gates.txt', circ_gates, fmt=\"%s\")\n",
    "    np.savetxt(curr_circ_dir + '/gate_params.txt', gate_params, fmt=\"%s\")\n",
    "    np.savetxt(curr_circ_dir + '/inputs_bounds.txt', inputs_bounds)\n",
    "    np.savetxt(curr_circ_dir + '/weights_bounds.txt', weights_bounds)"
   ]
  },
  {
   "cell_type": "markdown",
   "metadata": {},
   "source": [
    "## Compute noise metric for generated circuits (takes ~ 30s per circuit to run)"
   ]
  },
  {
   "cell_type": "code",
   "execution_count": null,
   "metadata": {},
   "outputs": [],
   "source": [
    "circuit_dir = './noise_metric_circuits' # overwrite if you have to\n",
    "\n",
    "num_qubits = 4\n",
    "num_trial_params = 128 # number of circuit runs used to compute actual circuit fidelity\n",
    "meas_qubits = [i for i in range(num_qubits)]\n",
    "num_cdcs = 128 # number of clifford decoy circuits to use\n",
    "num_shots = 1024 # number of shots to use when running clifford decoy circuits and actual parametrized circuits\n",
    "num_circs = 25 # depends on how many you generated\n",
    "\n",
    "device_name = 'ibm_oslo' # only choose publicly available devices\n",
    "dev = noisy_dev_from_backend(device_name, num_qubits) # create pennylane device using nosie model of chosen device\n",
    "noiseless_dev = qml.device('lightning.qubit', wires=num_qubits) # noiseless device for reference\n",
    "\n",
    "clifford_tvds = []\n",
    "actual_tvds = []\n",
    "\n",
    "\n",
    "for i in range(2):\n",
    "    curr_circ_dir = os.path.join(circuit_dir, f'circ_{i + 1}')\n",
    "\n",
    "    # get the circuit gates, etc. of the current circuit\n",
    "    circ_gates, gate_params, inputs_bounds, weights_bounds = get_circ_params(curr_circ_dir) \n",
    "\n",
    "    # create circuits that you can pass batched inputs and parameters through using pennylane\n",
    "    \n",
    "    noisy_circ = create_batched_gate_circ(dev, circ_gates, gate_params, inputs_bounds,\n",
    "                                                                    weights_bounds, meas_qubits, 'probs') \n",
    "\n",
    "    noiseless_circ = create_batched_gate_circ(noiseless_dev, circ_gates, gate_params, inputs_bounds,\n",
    "                                                                    weights_bounds, meas_qubits, 'probs') \n",
    "\n",
    "    # where to store noise metric information of the circuit\n",
    "    noise_metric_dir = os.path.join(curr_circ_dir, 'noise_metric') \n",
    "\n",
    "    if not os.path.exists(noise_metric_dir):\n",
    "        os.mkdir(noise_metric_dir)\n",
    "\n",
    "    # where to store information about the noise metric for this specific device\n",
    "    device_noise_metric_dir = os.path.join(noise_metric_dir, device_name) \n",
    "\n",
    "    if not os.path.exists(device_noise_metric_dir):\n",
    "        os.mkdir(device_noise_metric_dir)\n",
    "\n",
    "    # randomly generate some parameter values to use\n",
    "    params = np.random.sample((num_trial_params, weights_bounds[-1])) * 2 * np.pi\n",
    "    \n",
    "    # empty, since we do not use any data to compute the noise metric (but we can if we want to)\n",
    "    batch_data = []\n",
    "\n",
    "    # get the noiseless and noisy output probability distributions for the actual parametrized circuit runs\n",
    "    \n",
    "    noiseless_res_raw = np.array(noiseless_circ(batch_data, params, shots=num_shots))\n",
    "    noisy_res_raw = np.array(noisy_circ(batch_data, params, shots=num_shots))\n",
    "\n",
    "    # compute the TVD using the outputs\n",
    "    actual_tvd = 1 - np.mean(np.sum(0.5 * np.abs(noiseless_res_raw - noisy_res_raw), 1))\n",
    "        \n",
    "    # Now get the TVD using the clifford decoy circuits\n",
    "    clifford_tvd = 1 - compute_noise_metric(circ_gates, gate_params, inputs_bounds, weights_bounds, num_qubits, noiseless_dev, dev, num_cdcs=num_cdcs, num_shots=num_shots)\n",
    "\n",
    "    # save the results\n",
    "    np.savetxt(device_noise_metric_dir + '/metric_tvd_score.txt', [clifford_tvd])\n",
    "    np.savetxt(device_noise_metric_dir + '/actual_tvd_score.txt', [actual_tvd])\n",
    "\n",
    "    clifford_tvds.append(clifford_tvd)\n",
    "    actual_tvds.append(actual_tvd)\n",
    "\n",
    "    print(f'Circuit {i + 1}: Actual Fidelity: {actual_tvd} | Clifford Fidelity: {clifford_tvd}')\n",
    "        \n",
    "np.savetxt(os.path.join(circuit_dir, f'act_tvds_{device_name}.txt'), actual_tvds)\n",
    "np.savetxt(os.path.join(circuit_dir, f'clifford_tvds_{device_name}.txt'), clifford_tvds)"
   ]
  },
  {
   "cell_type": "markdown",
   "metadata": {},
   "source": [
    "## Plot data"
   ]
  },
  {
   "cell_type": "code",
   "execution_count": 24,
   "metadata": {},
   "outputs": [
    {
     "data": {
      "text/plain": [
       "Text(0, 0.5, 'Actual Circuit Fidelity')"
      ]
     },
     "execution_count": 24,
     "metadata": {},
     "output_type": "execute_result"
    },
    {
     "data": {
      "image/png": "[encoded data removed]",
      "text/plain": [
       "<Figure size 720x720 with 1 Axes>"
      ]
     },
     "metadata": {
      "needs_background": "light"
     },
     "output_type": "display_data"
    }
   ],
   "source": [
    "results_dir = './noise_metric_circuits' # same folder you stored the circuits in\n",
    "device_name = 'ibm_oslo' # same device you used the noise model of to compute the fidelities\n",
    "\n",
    "clifford_tvds = np.genfromtxt(os.path.join(results_dir, f'clifford_tvds_{device_name}.txt'))\n",
    "actual_tvds = np.genfromtxt(os.path.join(results_dir, f'act_tvds_{device_name}.txt'))\n",
    "\n",
    "fig, ax = plt.subplots(1, 1, figsize=(10, 10))\n",
    "\n",
    "ax.scatter(clifford_tvds, actual_tvds, s=150)\n",
    "ax.set_xlabel('Clifford Noise Resilience')\n",
    "ax.set_ylabel('Actual Circuit Fidelity')"
   ]
  }
 ],
 "metadata": {
  "instance_type": "ml.t3.medium",
  "kernelspec": {
   "display_name": "Python 3 (TensorFlow 2.3 Python 3.7 CPU Optimized)",
   "language": "python",
   "name": "python3__SAGEMAKER_INTERNAL__arn:aws:sagemaker:us-east-1:081325390199:image/tensorflow-2.3-cpu-py37-ubuntu18.04-v1"
  },
  "language_info": {
   "codemirror_mode": {
    "name": "ipython",
    "version": 3
   },
   "file_extension": ".py",
   "mimetype": "text/x-python",
   "name": "python",
   "nbconvert_exporter": "python",
   "pygments_lexer": "ipython3",
   "version": "3.7.10"
  }
 },
 "nbformat": 4,
 "nbformat_minor": 4
}
