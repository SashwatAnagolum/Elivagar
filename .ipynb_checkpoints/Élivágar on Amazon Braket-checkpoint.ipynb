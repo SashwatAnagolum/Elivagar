{
 "cells": [
  {
   "cell_type": "markdown",
   "id": "46dca12a",
   "metadata": {},
   "source": [
    "# Élivágar: Efficient Quantum Circuit Search for Classification\n",
    "\n",
    "In this notebook, we will explore using Élivágar, an efficient method for performing Quantum Circuit Search (QCS) for classification tasks on quantum computers. We will apply Élivágar to find performant, noise-robust circuits that can be used to classify MNIST digits on the OQC Lucy quantum computer, which is accessible via Amazon Braket.\n",
    "\n",
    "## About Élivágar\n",
    "Élivágar is a QCS framework that differs from prior QCS works such as QuantumNAS by using training- and gradient-free strategies to select suitable circuits for classification tasks. Since gradient computation is expensive on quantum computers due to the high cost of methods such as the parameter shift rule, QuantumNAS and other methods which use SuperCircuit-inspired setups requiring training incur high runtime costs. In contrast, Élivágar is much faster due to using gradient-free performance predictors to evaluate candidate circuits. \n",
    "\n",
    "Furthermore, Élivágar also incorporates device-aware circuit generation, which eliminates the need to perform a costly circuit-mapping co-search to find good qubit mappings for candidate circuits onto the target device. Élivágar instead generates high-quality qubit mappings before generating candidate circuits, and chooses operations that obey the connectivity constraints of the select mappings. Finally, Élivágar also searches over data embeddings, which is not supported in other QCS frameworks. This leads to significant performance gains on various classification tasks, since, as shown by multiple works in the Quantum Machine Learning (QML) literature, the embedding used with a circuit plays an extremely important role in determining circuit performance."
   ]
  },
  {
   "cell_type": "markdown",
   "id": "319909d5",
   "metadata": {},
   "source": [
    "## Setting up Amazon Braket on your local development environment"
   ]
  },
  {
   "cell_type": "markdown",
   "id": "bd044960",
   "metadata": {},
   "source": [
    "Before you can follow along with the steps performed in this notebook, you will need to have your local development environment set up in Amazon Braket. If you have not done so already, you can follow the guide at [https://aws.amazon.com/blogs/quantum-computing/setting-up-your-local-development-environment-in-amazon-braket/](https://aws.amazon.com/blogs/quantum-computing/setting-up-your-local-development-environment-in-amazon-braket/) to do so."
   ]
  },
  {
   "cell_type": "markdown",
   "id": "8a84f216",
   "metadata": {},
   "source": [
    "## Required imports\n",
    "\n",
    "First, we will import all of the packages and modules that we require for the demonstration:"
   ]
  },
  {
   "cell_type": "code",
   "execution_count": 63,
   "id": "0c04bbd2",
   "metadata": {},
   "outputs": [],
   "source": [
    "import os\n",
    "import numpy as np\n",
    "\n",
    "from braket.aws import AwsDevice\n",
    "\n",
    "from elivagar.circuits.device_aware import (\n",
    "    extract_properties_from_braket_device,\n",
    "    generate_device_aware_gate_circ\n",
    ")\n",
    "\n",
    "from elivagar.metric_computation.compute_clifford_nr import (\n",
    "    compute_clifford_nr_for_circuits\n",
    ")\n",
    "\n",
    "from elivagar.metric_computation.compute_rep_cap import (\n",
    "    compute_rep_cap_for_circuits\n",
    ")"
   ]
  },
  {
   "cell_type": "code",
   "execution_count": 54,
   "id": "490e82a9",
   "metadata": {},
   "outputs": [
    {
     "data": {
      "text/plain": [
       "<module 'elivagar.metric_computation.compute_clifford_nr' from 'D:\\\\Quantum_Computing\\\\Elivagar\\\\Elivagar\\\\elivagar\\\\metric_computation\\\\compute_clifford_nr.py'>"
      ]
     },
     "execution_count": 54,
     "metadata": {},
     "output_type": "execute_result"
    }
   ],
   "source": [
    "from importlib import reload\n",
    "\n",
    "import elivagar.circuits.create_circuit\n",
    "import elivagar.metric_computation.compute_clifford_nr\n",
    "\n",
    "reload(elivagar.circuits.create_circuit)\n",
    "reload(elivagar.metric_computation.compute_clifford_nr)"
   ]
  },
  {
   "cell_type": "markdown",
   "id": "61f82ee2",
   "metadata": {},
   "source": [
    "## Get target device information\n",
    "\n",
    "Before we can begin the process of generating candidate circuits for the MNIST task, we must first obtain the properties of the target device, in this case OQC Lucy. We require this because Elivagar generates candidate circuits in a device-aware way, using the differences in edge and readout fidelities as well as qubit coherence times to determine the best circuit structures to generate, and the best logical-to-physical qubit mappings for each generated candidate circuit. \n",
    "\n",
    "We will start by getting the device details from OQC Lucy using the Braket SDK:"
   ]
  },
  {
   "cell_type": "code",
   "execution_count": 4,
   "id": "c699e842",
   "metadata": {},
   "outputs": [],
   "source": [
    "oqc_lucy_dev = AwsDevice(\"arn:aws:braket:eu-west-2::device/qpu/oqc/Lucy\")"
   ]
  },
  {
   "cell_type": "markdown",
   "id": "db6f8f1c",
   "metadata": {},
   "source": [
    "## Generate candidate circuits"
   ]
  },
  {
   "cell_type": "markdown",
   "id": "e642fa64",
   "metadata": {},
   "source": [
    "In order to generate candidate circuits for a dataset, we first need to obtain some basic information about the dataset. IN our case, the dataset is MNIST-2, a subset of the MNIST handwritten digit dataset consisting of 2 classes, 0 and 1. While we can apply Élivágar to larger datasets, such as the whole MNIST dataset, as well, for the purposes of this tutorial, we will only use a smaller subset to keep things short.\n",
    "\n",
    "We will search for a circuit with 4 qubits and 32 parameters. Since we will be using a preprocessed version of the MNIST dataset, the dimensionality of each sample is only 16, rather than the 784 in the original dataset. Additionally, since there are only two classes, we only need to measure 1 qubit - we can simply train the model to perform binary classification, i.e. output expectation values of either -1 or 1, depending on which class the input belongs to."
   ]
  },
  {
   "cell_type": "code",
   "execution_count": 8,
   "id": "a1bd655f",
   "metadata": {},
   "outputs": [],
   "source": [
    "num_qubits = 4\n",
    "num_meas_qubits = 1\n",
    "num_params = 32\n",
    "num_embeds = 16"
   ]
  },
  {
   "cell_type": "markdown",
   "id": "41e46b4f",
   "metadata": {},
   "source": [
    "We also need to specify some options related to the circuit generation process:\n",
    "* num_circs: the number of candidate circuits to generate.\n",
    "* add_rotations: whether to add RX, RY, and RZ single qubit gates to the gateset of the circuits beign generated, or use only device-native gates. Adding rotation gates often improves performance due to greater circuit expressivity, and does not affect the qubit mappings since they are all single qubit gates.\n",
    "* param_focus: a number that specifies how important it is to generate gates that contain variational parameters versus non-paametrized gates. Increasing this will make the generated circuits contain fewer gates and result in reduced circuit depth, although it may reduce circuit expressivity.\n",
    "* num_trial_mappings: the number of mappings to generate before beginning the candidate generation process. Increasing this number will lead to the selection of more high-quality mappings, but will also increase circuit generation time.\n",
    "* temp: the temperate for various softmax distributions used by the circuit generation process. Increasing this results in higher circuit diversity, as different gates, gate placements, and qubit mappings are chosen with more uniform probabilities.\n",
    "\n",
    "For now, we will use sensible defaults for each of these values, although you can try out different values for each to see how they affect downstream performance."
   ]
  },
  {
   "cell_type": "code",
   "execution_count": 18,
   "id": "03778d2a",
   "metadata": {},
   "outputs": [],
   "source": [
    "num_circs = 250\n",
    "add_rotations = True\n",
    "param_focus = 2.0\n",
    "num_trial_mappings = 200\n",
    "temp = 0.25"
   ]
  },
  {
   "cell_type": "markdown",
   "id": "7ba0feaf",
   "metadata": {},
   "source": [
    "Now, we can generate the candidate circuits. For each circuit, we randomly sample a ent_prob value, which determines what the proportion of entangling (2-qubit) gates in the circuit will be. Higher values can lead to better performance, but also lower circuit fidelity. We will discuss this effect of this in more detail in the next section, which focuses on estimating the noise robustness of generated candidate circuits."
   ]
  },
  {
   "cell_type": "code",
   "execution_count": 26,
   "id": "1a81510c",
   "metadata": {},
   "outputs": [],
   "source": [
    "circuits_save_folder = './candidate_circuits'\n",
    "\n",
    "if not os.path.exists(circuits_save_folder):\n",
    "    os.mkdir(circuits_save_folder)\n",
    "\n",
    "for i in range(num_circs):\n",
    "    curr_circ_folder = os.path.join(circuits_save_folder, f'circ_{i + 1}')\n",
    "        \n",
    "    if not os.path.exists(curr_circ_folder):\n",
    "        os.makedirs(curr_circ_folder)\n",
    "            \n",
    "    ent_prob = 0.3 + 0.5 * np.random.sample()\n",
    "        \n",
    "    (\n",
    "        circ_gates, gate_placements, inputs_bounds, weights_bounds,\n",
    "        selected_mapping, meas_qubits\n",
    "    ) = generate_device_aware_gate_circ(\n",
    "        None, num_qubits, num_embeds, num_params,\n",
    "        ent_prob, add_rotations, param_focus,\n",
    "        num_meas_qubits, num_trial_mappings,\n",
    "        temp, braket_device_properties=oqc_lucy_dev.properties\n",
    "    )\n",
    "\n",
    "    np.savetxt(\n",
    "        os.path.join(curr_circ_folder, 'gate_params.txt'),\n",
    "        np.array(gate_placements, dtype=object), fmt=\"%s\"\n",
    "    )\n",
    "\n",
    "    np.savetxt(os.path.join(curr_circ_folder, 'gates.txt'), circ_gates, fmt=\"%s\")\n",
    "    np.savetxt(os.path.join(curr_circ_folder, 'inputs_bounds.txt'), inputs_bounds)\n",
    "    np.savetxt(os.path.join(curr_circ_folder, 'weights_bounds.txt'), weights_bounds)\n",
    "    np.savetxt(os.path.join(curr_circ_folder, 'qubit_mapping.txt'), selected_mapping)\n",
    "    np.savetxt(os.path.join(curr_circ_folder, 'meas_qubits.txt'), meas_qubits)"
   ]
  },
  {
   "cell_type": "markdown",
   "id": "cc42a166",
   "metadata": {},
   "source": [
    "Notice that when a circuit is generated, we not only receive information about the circuit, such as the gates and gate placements, but also the qubit mapping, and even which qubits we should measure at the end of the circuit."
   ]
  },
  {
   "cell_type": "markdown",
   "id": "5438d1f4",
   "metadata": {},
   "source": [
    "## Compute Clifford noise resilience for candidate circuits\n",
    "After we finish generating candidate circuits, we want to rank them in some way that will enable us to choose the best circuit for the classification task we have in mind. The first step Élivágar uses to do this is to estimate how noise-robust each circuit is, which quantifies the degree to which circuit outputs remain unaffected by hardware errors occuring during circuit execution. This is a crucial component of predicting circuit performance on noisy hardware, since while a circuit might perform well on a noiseless somulator, it might be execssively deep, or contain many low-fidelity two-qubit gates, reducing performance when deployed on error-prone quantum hardware.\n",
    "\n",
    "Note: this step involves running circuits on the OQC Lucy device on the cloud, and the total time it takes will be subject to queueing delays, making it difficult to predict an expected runtime. Computing CNR with 32 Clifford replicas for 250 circuits involves running 8000 circuits on the device, which is likely to take at least a few hours. You can reduce this time by changing the number of candidate circuits to consider to a smaller value."
   ]
  },
  {
   "cell_type": "code",
   "execution_count": 59,
   "id": "ed905689",
   "metadata": {},
   "outputs": [],
   "source": [
    "circuits_save_folder = './candidate_circuits'\n",
    "num_circs = 250\n",
    "device_name = 'oqc_lucy'\n",
    "num_qubits = 4\n",
    "num_clifford_replicas = 32\n",
    "num_shots = 2048\n",
    "compute_actual_fidelity = False\n",
    "num_trial_parameters = 128\n",
    "dataset = None\n",
    "encoding_type = 'angle'\n",
    "num_data_reps = 1\n",
    "use_qubit_mapping = True\n",
    "save_cnr_scores = True\n",
    "circ_index_offset = 0\n",
    "dataset_file_extension = 'txt'\n",
    "use_real_backend = True"
   ]
  },
  {
   "cell_type": "code",
   "execution_count": 60,
   "id": "3ff12960",
   "metadata": {},
   "outputs": [
    {
     "name": "stdout",
     "output_type": "stream",
     "text": [
      "0 0.2541656494140625\n",
      "1 0.629547119140625\n",
      "2 0.4219207763671875\n",
      "3 0.3982086181640625\n",
      "4 0.7200927734375\n",
      "5 0.301910400390625\n",
      "6 0.296722412109375\n",
      "7 0.5259552001953125\n",
      "8 0.2610015869140625\n",
      "9 0.760711669921875\n"
     ]
    },
    {
     "ename": "KeyboardInterrupt",
     "evalue": "",
     "output_type": "error",
     "traceback": [
      "\u001b[1;31m---------------------------------------------------------------------------\u001b[0m",
      "\u001b[1;31mKeyboardInterrupt\u001b[0m                         Traceback (most recent call last)",
      "Cell \u001b[1;32mIn[60], line 1\u001b[0m\n\u001b[1;32m----> 1\u001b[0m \u001b[43mcompute_clifford_nr_for_circuits\u001b[49m\u001b[43m(\u001b[49m\n\u001b[0;32m      2\u001b[0m \u001b[43m    \u001b[49m\u001b[43mcircuits_save_folder\u001b[49m\u001b[43m,\u001b[49m\u001b[43m \u001b[49m\u001b[43mnum_circs\u001b[49m\u001b[43m,\u001b[49m\u001b[43m \u001b[49m\u001b[43mdevice_name\u001b[49m\u001b[43m,\u001b[49m\u001b[43m \u001b[49m\u001b[43mnum_qubits\u001b[49m\u001b[43m,\u001b[49m\n\u001b[0;32m      3\u001b[0m \u001b[43m    \u001b[49m\u001b[43mnum_clifford_replicas\u001b[49m\u001b[43m,\u001b[49m\u001b[43m \u001b[49m\u001b[43mnum_shots\u001b[49m\u001b[43m,\u001b[49m\u001b[43m \u001b[49m\u001b[43mcompute_actual_fidelity\u001b[49m\u001b[43m,\u001b[49m\u001b[43m \u001b[49m\u001b[43mnum_trial_parameters\u001b[49m\u001b[43m,\u001b[49m\n\u001b[0;32m      4\u001b[0m \u001b[43m    \u001b[49m\u001b[43mdataset\u001b[49m\u001b[43m,\u001b[49m\u001b[43m \u001b[49m\u001b[43mencoding_type\u001b[49m\u001b[43m,\u001b[49m\u001b[43m \u001b[49m\u001b[43mnum_data_reps\u001b[49m\u001b[43m,\u001b[49m\n\u001b[0;32m      5\u001b[0m \u001b[43m    \u001b[49m\u001b[38;5;28;43;01mNone\u001b[39;49;00m\u001b[43m,\u001b[49m\u001b[43m \u001b[49m\u001b[38;5;28;43;01mFalse\u001b[39;49;00m\u001b[43m,\u001b[49m\u001b[43m \u001b[49m\u001b[38;5;28;43;01mNone\u001b[39;49;00m\u001b[43m,\u001b[49m\u001b[43m \u001b[49m\u001b[38;5;28;43;01mNone\u001b[39;49;00m\u001b[43m,\u001b[49m\u001b[43m \u001b[49m\u001b[43muse_qubit_mapping\u001b[49m\u001b[43m,\u001b[49m\u001b[43m \u001b[49m\u001b[43msave_cnr_scores\u001b[49m\u001b[43m,\u001b[49m\u001b[43m  \u001b[49m\n\u001b[0;32m      6\u001b[0m \u001b[43m    \u001b[49m\u001b[38;5;28;43;01mNone\u001b[39;49;00m\u001b[43m,\u001b[49m\u001b[43m \u001b[49m\u001b[43mcirc_index_offset\u001b[49m\u001b[43m,\u001b[49m\u001b[43m \u001b[49m\u001b[43mdataset_file_extension\u001b[49m\u001b[43m,\u001b[49m\n\u001b[0;32m      7\u001b[0m \u001b[43m    \u001b[49m\u001b[43muse_real_backend\u001b[49m\n\u001b[0;32m      8\u001b[0m \u001b[43m)\u001b[49m\n",
      "File \u001b[1;32mD:\\Quantum_Computing\\Elivagar\\Elivagar\\elivagar\\metric_computation\\compute_clifford_nr.py:201\u001b[0m, in \u001b[0;36mcompute_clifford_nr_for_circuits\u001b[1;34m(circ_dir, num_circs, device_name, num_qubits, num_cdcs, num_shots, compute_actual_fidelity, num_trial_params, dataset, embed_type, data_reps, noise_model, use_qiskit, basis_gates, coupling_map, use_qubit_mapping, save, index_mapping, circ_index_offset, dataset_file_extension, use_real_backend)\u001b[0m\n\u001b[0;32m    197\u001b[0m \u001b[38;5;28;01mfor\u001b[39;00m i \u001b[38;5;129;01min\u001b[39;00m \u001b[38;5;28mrange\u001b[39m(circ_index_offset, circ_index_offset \u001b[38;5;241m+\u001b[39m num_circs):\n\u001b[0;32m    198\u001b[0m     curr_circ_dir \u001b[38;5;241m=\u001b[39m os\u001b[38;5;241m.\u001b[39mpath\u001b[38;5;241m.\u001b[39mjoin(circ_dir, \u001b[38;5;124mf\u001b[39m\u001b[38;5;124m'\u001b[39m\u001b[38;5;124mcirc_\u001b[39m\u001b[38;5;132;01m{\u001b[39;00mi\u001b[38;5;250m \u001b[39m\u001b[38;5;241m+\u001b[39m\u001b[38;5;250m \u001b[39m\u001b[38;5;241m1\u001b[39m\u001b[38;5;132;01m}\u001b[39;00m\u001b[38;5;124m'\u001b[39m)\n\u001b[0;32m    200\u001b[0m     noise_metric_scores\u001b[38;5;241m.\u001b[39mappend(\n\u001b[1;32m--> 201\u001b[0m         \u001b[43mcompute_clifford_nr_for_circuit\u001b[49m\u001b[43m(\u001b[49m\n\u001b[0;32m    202\u001b[0m \u001b[43m            \u001b[49m\u001b[43mcurr_circ_dir\u001b[49m\u001b[43m,\u001b[49m\u001b[43m \u001b[49m\u001b[43mnoisy_dev\u001b[49m\u001b[43m,\u001b[49m\u001b[43m \u001b[49m\u001b[43mnoiseless_dev\u001b[49m\u001b[43m,\u001b[49m\u001b[43m \u001b[49m\u001b[43mdevice_name\u001b[49m\u001b[43m,\u001b[49m\u001b[43m \u001b[49m\u001b[43mnum_qubits\u001b[49m\u001b[43m,\u001b[49m\u001b[43m \u001b[49m\u001b[43mnum_cdcs\u001b[49m\u001b[43m,\u001b[49m\n\u001b[0;32m    203\u001b[0m \u001b[43m            \u001b[49m\u001b[43mnum_shots\u001b[49m\u001b[43m,\u001b[49m\u001b[43m \u001b[49m\u001b[43mcompute_actual_fidelity\u001b[49m\u001b[43m,\u001b[49m\u001b[43m \u001b[49m\u001b[43mnum_trial_params\u001b[49m\u001b[43m,\u001b[49m\u001b[43m \u001b[49m\u001b[43mx_train\u001b[49m\u001b[43m,\u001b[49m\n\u001b[0;32m    204\u001b[0m \u001b[43m            \u001b[49m\u001b[43muse_qiskit\u001b[49m\u001b[43m,\u001b[49m\u001b[43m \u001b[49m\u001b[43mbasis_gates\u001b[49m\u001b[43m,\u001b[49m\u001b[43m \u001b[49m\u001b[43mcoupling_map\u001b[49m\u001b[43m,\u001b[49m\u001b[43m \u001b[49m\u001b[43muse_qubit_mapping\u001b[49m\u001b[43m,\u001b[49m\u001b[43m \u001b[49m\u001b[43mindex_mapping\u001b[49m\u001b[43m,\u001b[49m\n\u001b[0;32m    205\u001b[0m \u001b[43m            \u001b[49m\u001b[43muse_real_backend\u001b[49m\n\u001b[0;32m    206\u001b[0m \u001b[43m        \u001b[49m\u001b[43m)\u001b[49m\n\u001b[0;32m    207\u001b[0m     )\n\u001b[0;32m    209\u001b[0m     \u001b[38;5;28mprint\u001b[39m(i, noise_metric_scores[\u001b[38;5;241m-\u001b[39m\u001b[38;5;241m1\u001b[39m])\n\u001b[0;32m    211\u001b[0m \u001b[38;5;28;01mif\u001b[39;00m save:\n",
      "File \u001b[1;32mD:\\Quantum_Computing\\Elivagar\\Elivagar\\elivagar\\metric_computation\\compute_clifford_nr.py:116\u001b[0m, in \u001b[0;36mcompute_clifford_nr_for_circuit\u001b[1;34m(circ_dir, noisy_dev, noiseless_dev, device_name, num_qubits, num_cdcs, num_shots, compute_actual_fidelity, num_trial_params, x_train, use_qiskit, basis_gates, coupling_map, use_qubit_mapping, index_mapping, use_real_backend)\u001b[0m\n\u001b[0;32m    113\u001b[0m \u001b[38;5;28;01mif\u001b[39;00m \u001b[38;5;129;01mnot\u001b[39;00m os\u001b[38;5;241m.\u001b[39mpath\u001b[38;5;241m.\u001b[39mexists(device_noise_metric_dir):\n\u001b[0;32m    114\u001b[0m     os\u001b[38;5;241m.\u001b[39mmkdir(device_noise_metric_dir)\n\u001b[1;32m--> 116\u001b[0m clifford_fid \u001b[38;5;241m=\u001b[39m \u001b[38;5;241m1\u001b[39m \u001b[38;5;241m-\u001b[39m \u001b[43mcompute_noise_metric\u001b[49m\u001b[43m(\u001b[49m\n\u001b[0;32m    117\u001b[0m \u001b[43m    \u001b[49m\u001b[43mcirc_gates\u001b[49m\u001b[43m,\u001b[49m\u001b[43m \u001b[49m\u001b[43mgate_params\u001b[49m\u001b[43m,\u001b[49m\u001b[43m \u001b[49m\u001b[43minputs_bounds\u001b[49m\u001b[43m,\u001b[49m\u001b[43m \u001b[49m\u001b[43mweights_bounds\u001b[49m\u001b[43m,\u001b[49m\u001b[43m \u001b[49m\u001b[43mnum_qubits\u001b[49m\u001b[43m,\u001b[49m\n\u001b[0;32m    118\u001b[0m \u001b[43m    \u001b[49m\u001b[43mnoiseless_dev\u001b[49m\u001b[43m,\u001b[49m\u001b[43m \u001b[49m\u001b[43mnoisy_dev\u001b[49m\u001b[43m,\u001b[49m\u001b[43m \u001b[49m\u001b[43mqubit_mapping\u001b[49m\u001b[43m,\u001b[49m\u001b[43m \u001b[49m\u001b[43mnum_cdcs\u001b[49m\u001b[38;5;241;43m=\u001b[39;49m\u001b[43mnum_cdcs\u001b[49m\u001b[43m,\u001b[49m\n\u001b[0;32m    119\u001b[0m \u001b[43m    \u001b[49m\u001b[43mnum_shots\u001b[49m\u001b[38;5;241;43m=\u001b[39;49m\u001b[43mnum_shots\u001b[49m\u001b[43m,\u001b[49m\u001b[43m \u001b[49m\u001b[43mqiskit\u001b[49m\u001b[38;5;241;43m=\u001b[39;49m\u001b[43muse_qiskit\u001b[49m\u001b[43m,\u001b[49m\u001b[43m \u001b[49m\u001b[43mcoupling_map\u001b[49m\u001b[38;5;241;43m=\u001b[39;49m\u001b[43mcoupling_map\u001b[49m\u001b[43m,\u001b[49m\n\u001b[0;32m    120\u001b[0m \u001b[43m    \u001b[49m\u001b[43mbasis_gates\u001b[49m\u001b[38;5;241;43m=\u001b[39;49m\u001b[43mbasis_gates\u001b[49m\u001b[43m,\u001b[49m\u001b[43m \u001b[49m\u001b[43muse_real_backend\u001b[49m\u001b[38;5;241;43m=\u001b[39;49m\u001b[43muse_real_backend\u001b[49m\n\u001b[0;32m    121\u001b[0m \u001b[43m\u001b[49m\u001b[43m)\u001b[49m\n\u001b[0;32m    123\u001b[0m np\u001b[38;5;241m.\u001b[39msavetxt(device_noise_metric_dir \u001b[38;5;241m+\u001b[39m \u001b[38;5;124m'\u001b[39m\u001b[38;5;124m/cnr.txt\u001b[39m\u001b[38;5;124m'\u001b[39m, [clifford_fid])\n\u001b[0;32m    125\u001b[0m \u001b[38;5;28;01mif\u001b[39;00m compute_actual_fidelity:\n",
      "File \u001b[1;32mD:\\Quantum_Computing\\Elivagar\\Elivagar\\elivagar\\metric_computation\\compute_clifford_nr.py:67\u001b[0m, in \u001b[0;36mcompute_noise_metric\u001b[1;34m(circ_gates, gate_params, inputs_bounds, weights_bounds, num_qubits, noiseless_dev, noisy_dev, qubit_mapping, num_cdcs, num_shots, qiskit, coupling_map, basis_gates, use_real_backend)\u001b[0m\n\u001b[0;32m     61\u001b[0m \u001b[38;5;28;01mfor\u001b[39;00m i \u001b[38;5;129;01min\u001b[39;00m \u001b[38;5;28mrange\u001b[39m(num_cdcs):\n\u001b[0;32m     62\u001b[0m     noiseless_results \u001b[38;5;241m=\u001b[39m run_braket_circuit(\n\u001b[0;32m     63\u001b[0m         \u001b[38;5;241m*\u001b[39mcirc_list[i], qubit_mapping, [], [],\n\u001b[0;32m     64\u001b[0m         noiseless_dev, num_shots, \u001b[38;5;28;01mFalse\u001b[39;00m, \u001b[38;5;28;01mFalse\u001b[39;00m, \u001b[38;5;28;01mTrue\u001b[39;00m\n\u001b[0;32m     65\u001b[0m     )\n\u001b[1;32m---> 67\u001b[0m     noisy_results \u001b[38;5;241m=\u001b[39m \u001b[43mrun_braket_circuit\u001b[49m\u001b[43m(\u001b[49m\n\u001b[0;32m     68\u001b[0m \u001b[43m        \u001b[49m\u001b[38;5;241;43m*\u001b[39;49m\u001b[43mcirc_list\u001b[49m\u001b[43m[\u001b[49m\u001b[43mi\u001b[49m\u001b[43m]\u001b[49m\u001b[43m,\u001b[49m\u001b[43m \u001b[49m\u001b[43mqubit_mapping\u001b[49m\u001b[43m,\u001b[49m\u001b[43m \u001b[49m\u001b[43m[\u001b[49m\u001b[43m]\u001b[49m\u001b[43m,\u001b[49m\u001b[43m \u001b[49m\u001b[43m[\u001b[49m\u001b[43m]\u001b[49m\u001b[43m,\u001b[49m\n\u001b[0;32m     69\u001b[0m \u001b[43m        \u001b[49m\u001b[43mnoisy_dev\u001b[49m\u001b[43m,\u001b[49m\u001b[43m \u001b[49m\u001b[43mnum_shots\u001b[49m\u001b[43m,\u001b[49m\u001b[43m \u001b[49m\u001b[38;5;28;43;01mFalse\u001b[39;49;00m\u001b[43m,\u001b[49m\u001b[43m \u001b[49m\u001b[38;5;28;43;01mFalse\u001b[39;49;00m\u001b[43m,\u001b[49m\u001b[43m \u001b[49m\u001b[38;5;28;43;01mTrue\u001b[39;49;00m\n\u001b[0;32m     70\u001b[0m \u001b[43m    \u001b[49m\u001b[43m)\u001b[49m\n\u001b[0;32m     72\u001b[0m     circ_noisy_dist[i] \u001b[38;5;241m=\u001b[39m noisy_results\n\u001b[0;32m     73\u001b[0m     circ_noiseless_dist[i] \u001b[38;5;241m=\u001b[39m noiseless_results\n",
      "File \u001b[1;32mD:\\Quantum_Computing\\Elivagar\\Elivagar\\elivagar\\circuits\\run_circuit.py:53\u001b[0m, in \u001b[0;36mrun_braket_circuit\u001b[1;34m(circ_gates, gate_targets, inputs_indices, weights_indices, sel_qubits, circ_data, circ_params, device, num_shots, verbatim, qubit_mapping, simulator)\u001b[0m\n\u001b[0;32m     50\u001b[0m     \u001b[38;5;28;01mfor\u001b[39;00m qubit \u001b[38;5;129;01min\u001b[39;00m \u001b[38;5;28mrange\u001b[39m(circ_num_qubits):\n\u001b[0;32m     51\u001b[0m         circ\u001b[38;5;241m.\u001b[39mi(qubit)\n\u001b[1;32m---> 53\u001b[0m     probs \u001b[38;5;241m=\u001b[39m \u001b[43mdevice\u001b[49m\u001b[38;5;241;43m.\u001b[39;49m\u001b[43mrun\u001b[49m\u001b[43m(\u001b[49m\u001b[43mcirc\u001b[49m\u001b[43m,\u001b[49m\u001b[43m \u001b[49m\u001b[43mshots\u001b[49m\u001b[38;5;241;43m=\u001b[39;49m\u001b[43mnum_shots\u001b[49m\u001b[43m)\u001b[49m\u001b[38;5;241;43m.\u001b[39;49m\u001b[43mresult\u001b[49m\u001b[43m(\u001b[49m\u001b[43m)\u001b[49m\u001b[38;5;241m.\u001b[39mresult_types[\u001b[38;5;241m0\u001b[39m]\u001b[38;5;241m.\u001b[39mvalue\n\u001b[0;32m     55\u001b[0m \u001b[38;5;28;01mreturn\u001b[39;00m probs\n",
      "File \u001b[1;32mD:\\Quantum_Computing\\Elivagar\\Elivagar\\elivagar_venv\\lib\\site-packages\\braket\\aws\\aws_quantum_task.py:424\u001b[0m, in \u001b[0;36mAwsQuantumTask.result\u001b[1;34m(self)\u001b[0m\n\u001b[0;32m    422\u001b[0m \u001b[38;5;28;01mtry\u001b[39;00m:\n\u001b[0;32m    423\u001b[0m     async_result \u001b[38;5;241m=\u001b[39m \u001b[38;5;28mself\u001b[39m\u001b[38;5;241m.\u001b[39masync_result()\n\u001b[1;32m--> 424\u001b[0m     \u001b[38;5;28;01mreturn\u001b[39;00m \u001b[43masync_result\u001b[49m\u001b[38;5;241;43m.\u001b[39;49m\u001b[43mget_loop\u001b[49m\u001b[43m(\u001b[49m\u001b[43m)\u001b[49m\u001b[38;5;241;43m.\u001b[39;49m\u001b[43mrun_until_complete\u001b[49m\u001b[43m(\u001b[49m\u001b[43masync_result\u001b[49m\u001b[43m)\u001b[49m\n\u001b[0;32m    425\u001b[0m \u001b[38;5;28;01mexcept\u001b[39;00m asyncio\u001b[38;5;241m.\u001b[39mCancelledError:\n\u001b[0;32m    426\u001b[0m     \u001b[38;5;66;03m# Future was cancelled, return whatever is in self._result if anything\u001b[39;00m\n\u001b[0;32m    427\u001b[0m     \u001b[38;5;28mself\u001b[39m\u001b[38;5;241m.\u001b[39m_logger\u001b[38;5;241m.\u001b[39mwarning(\u001b[38;5;124m\"\u001b[39m\u001b[38;5;124mTask future was cancelled\u001b[39m\u001b[38;5;124m\"\u001b[39m)\n",
      "File \u001b[1;32mD:\\Quantum_Computing\\Elivagar\\Elivagar\\elivagar_venv\\lib\\site-packages\\nest_asyncio.py:92\u001b[0m, in \u001b[0;36m_patch_loop.<locals>.run_until_complete\u001b[1;34m(self, future)\u001b[0m\n\u001b[0;32m     90\u001b[0m     f\u001b[38;5;241m.\u001b[39m_log_destroy_pending \u001b[38;5;241m=\u001b[39m \u001b[38;5;28;01mFalse\u001b[39;00m\n\u001b[0;32m     91\u001b[0m \u001b[38;5;28;01mwhile\u001b[39;00m \u001b[38;5;129;01mnot\u001b[39;00m f\u001b[38;5;241m.\u001b[39mdone():\n\u001b[1;32m---> 92\u001b[0m     \u001b[38;5;28;43mself\u001b[39;49m\u001b[38;5;241;43m.\u001b[39;49m\u001b[43m_run_once\u001b[49m\u001b[43m(\u001b[49m\u001b[43m)\u001b[49m\n\u001b[0;32m     93\u001b[0m     \u001b[38;5;28;01mif\u001b[39;00m \u001b[38;5;28mself\u001b[39m\u001b[38;5;241m.\u001b[39m_stopping:\n\u001b[0;32m     94\u001b[0m         \u001b[38;5;28;01mbreak\u001b[39;00m\n",
      "File \u001b[1;32mD:\\Quantum_Computing\\Elivagar\\Elivagar\\elivagar_venv\\lib\\site-packages\\nest_asyncio.py:115\u001b[0m, in \u001b[0;36m_patch_loop.<locals>._run_once\u001b[1;34m(self)\u001b[0m\n\u001b[0;32m    108\u001b[0m     heappop(scheduled)\n\u001b[0;32m    110\u001b[0m timeout \u001b[38;5;241m=\u001b[39m (\n\u001b[0;32m    111\u001b[0m     \u001b[38;5;241m0\u001b[39m \u001b[38;5;28;01mif\u001b[39;00m ready \u001b[38;5;129;01mor\u001b[39;00m \u001b[38;5;28mself\u001b[39m\u001b[38;5;241m.\u001b[39m_stopping\n\u001b[0;32m    112\u001b[0m     \u001b[38;5;28;01melse\u001b[39;00m \u001b[38;5;28mmin\u001b[39m(\u001b[38;5;28mmax\u001b[39m(\n\u001b[0;32m    113\u001b[0m         scheduled[\u001b[38;5;241m0\u001b[39m]\u001b[38;5;241m.\u001b[39m_when \u001b[38;5;241m-\u001b[39m \u001b[38;5;28mself\u001b[39m\u001b[38;5;241m.\u001b[39mtime(), \u001b[38;5;241m0\u001b[39m), \u001b[38;5;241m86400\u001b[39m) \u001b[38;5;28;01mif\u001b[39;00m scheduled\n\u001b[0;32m    114\u001b[0m     \u001b[38;5;28;01melse\u001b[39;00m \u001b[38;5;28;01mNone\u001b[39;00m)\n\u001b[1;32m--> 115\u001b[0m event_list \u001b[38;5;241m=\u001b[39m \u001b[38;5;28;43mself\u001b[39;49m\u001b[38;5;241;43m.\u001b[39;49m\u001b[43m_selector\u001b[49m\u001b[38;5;241;43m.\u001b[39;49m\u001b[43mselect\u001b[49m\u001b[43m(\u001b[49m\u001b[43mtimeout\u001b[49m\u001b[43m)\u001b[49m\n\u001b[0;32m    116\u001b[0m \u001b[38;5;28mself\u001b[39m\u001b[38;5;241m.\u001b[39m_process_events(event_list)\n\u001b[0;32m    118\u001b[0m end_time \u001b[38;5;241m=\u001b[39m \u001b[38;5;28mself\u001b[39m\u001b[38;5;241m.\u001b[39mtime() \u001b[38;5;241m+\u001b[39m \u001b[38;5;28mself\u001b[39m\u001b[38;5;241m.\u001b[39m_clock_resolution\n",
      "File \u001b[1;32m~\\AppData\\Local\\Programs\\Python\\Python39\\lib\\selectors.py:324\u001b[0m, in \u001b[0;36mSelectSelector.select\u001b[1;34m(self, timeout)\u001b[0m\n\u001b[0;32m    322\u001b[0m ready \u001b[38;5;241m=\u001b[39m []\n\u001b[0;32m    323\u001b[0m \u001b[38;5;28;01mtry\u001b[39;00m:\n\u001b[1;32m--> 324\u001b[0m     r, w, _ \u001b[38;5;241m=\u001b[39m \u001b[38;5;28;43mself\u001b[39;49m\u001b[38;5;241;43m.\u001b[39;49m\u001b[43m_select\u001b[49m\u001b[43m(\u001b[49m\u001b[38;5;28;43mself\u001b[39;49m\u001b[38;5;241;43m.\u001b[39;49m\u001b[43m_readers\u001b[49m\u001b[43m,\u001b[49m\u001b[43m \u001b[49m\u001b[38;5;28;43mself\u001b[39;49m\u001b[38;5;241;43m.\u001b[39;49m\u001b[43m_writers\u001b[49m\u001b[43m,\u001b[49m\u001b[43m \u001b[49m\u001b[43m[\u001b[49m\u001b[43m]\u001b[49m\u001b[43m,\u001b[49m\u001b[43m \u001b[49m\u001b[43mtimeout\u001b[49m\u001b[43m)\u001b[49m\n\u001b[0;32m    325\u001b[0m \u001b[38;5;28;01mexcept\u001b[39;00m \u001b[38;5;167;01mInterruptedError\u001b[39;00m:\n\u001b[0;32m    326\u001b[0m     \u001b[38;5;28;01mreturn\u001b[39;00m ready\n",
      "File \u001b[1;32m~\\AppData\\Local\\Programs\\Python\\Python39\\lib\\selectors.py:315\u001b[0m, in \u001b[0;36mSelectSelector._select\u001b[1;34m(self, r, w, _, timeout)\u001b[0m\n\u001b[0;32m    314\u001b[0m \u001b[38;5;28;01mdef\u001b[39;00m \u001b[38;5;21m_select\u001b[39m(\u001b[38;5;28mself\u001b[39m, r, w, _, timeout\u001b[38;5;241m=\u001b[39m\u001b[38;5;28;01mNone\u001b[39;00m):\n\u001b[1;32m--> 315\u001b[0m     r, w, x \u001b[38;5;241m=\u001b[39m \u001b[43mselect\u001b[49m\u001b[38;5;241;43m.\u001b[39;49m\u001b[43mselect\u001b[49m\u001b[43m(\u001b[49m\u001b[43mr\u001b[49m\u001b[43m,\u001b[49m\u001b[43m \u001b[49m\u001b[43mw\u001b[49m\u001b[43m,\u001b[49m\u001b[43m \u001b[49m\u001b[43mw\u001b[49m\u001b[43m,\u001b[49m\u001b[43m \u001b[49m\u001b[43mtimeout\u001b[49m\u001b[43m)\u001b[49m\n\u001b[0;32m    316\u001b[0m     \u001b[38;5;28;01mreturn\u001b[39;00m r, w \u001b[38;5;241m+\u001b[39m x, []\n",
      "\u001b[1;31mKeyboardInterrupt\u001b[0m: "
     ]
    }
   ],
   "source": [
    "compute_clifford_nr_for_circuits(\n",
    "    circuits_save_folder, num_circs, device_name, num_qubits,\n",
    "    num_clifford_replicas, num_shots, compute_actual_fidelity, num_trial_parameters,\n",
    "    dataset, encoding_type, num_data_reps,\n",
    "    None, False, None, None, use_qubit_mapping, save_cnr_scores,  \n",
    "    None, circ_index_offset, dataset_file_extension,\n",
    "    use_real_backend\n",
    ")"
   ]
  },
  {
   "cell_type": "markdown",
   "id": "c52e3c94",
   "metadata": {},
   "source": [
    "## Compute representational capacity for candidate circuits\n",
    "Once we have computed CNR for each of the candidate circuits, we can move to predicting the performance of each circuit on the target dataset. Élivágar does this using Representational Capacity (RepCap), a gradient-free metric that enables accurate estimation of circuit performance. To compute RepCap for a circuit, we need to define a few hyperparameters, listed below:\n",
    "* num_param_samples: the number of randomly sampled parameter sets to use with the circuit while computing RepCap. More samples will lead to more accurate predictions, but experiments have shown that even as few as 32 parameter sets can be enough.\n",
    "* num_samples_per_class: the number of samples to choose from each class in the target dataset for using to compute RepCap. Choosing more samples leads to more accurate predictions, but more than 16 samples per class are not required for simple datasets such as MNIST-2."
   ]
  },
  {
   "cell_type": "code",
   "execution_count": 66,
   "id": "16e40c58",
   "metadata": {},
   "outputs": [],
   "source": [
    "circuits_save_dir = './candidate_circuits'\n",
    "num_circs = 250\n",
    "circ_prefix = 'circ'\n",
    "num_qubits = 4\n",
    "num_meas_qubits = 1\n",
    "dataset = 'mnist_2'\n",
    "num_classes = 2\n",
    "num_samples_per_class = 16\n",
    "num_param_samples = 32\n",
    "encoding_type = 'angle'\n",
    "num_data_reps = 1\n",
    "save_matrices = False\n",
    "dataset_file_extension = 'txt'"
   ]
  },
  {
   "cell_type": "code",
   "execution_count": 67,
   "id": "b7219d15",
   "metadata": {
    "scrolled": true
   },
   "outputs": [
    {
     "name": "stdout",
     "output_type": "stream",
     "text": [
      "[[-1.]\n",
      " [ 1.]] (1600, 1)\n",
      "0.8394851684570312\n",
      "0.8880615234375\n",
      "0.8472385406494141\n",
      "0.8746986389160156\n",
      "0.7910575866699219\n",
      "0.8182697296142578\n",
      "0.819488525390625\n",
      "0.8101100921630859\n",
      "0.8505172729492188\n",
      "0.8849697113037109\n",
      "0.7408313751220703\n",
      "0.8405971527099609\n",
      "0.8360176086425781\n",
      "0.738433837890625\n",
      "0.8556022644042969\n",
      "0.7580490112304688\n",
      "0.8229351043701172\n",
      "0.7699394226074219\n",
      "0.9312763214111328\n",
      "0.8445262908935547\n",
      "0.8831996917724609\n",
      "0.8365631103515625\n",
      "0.8079242706298828\n",
      "0.8361339569091797\n",
      "0.8171844482421875\n",
      "0.8576431274414062\n",
      "0.8112659454345703\n",
      "0.8709201812744141\n",
      "0.8983287811279297\n",
      "0.9437332153320312\n",
      "0.7719211578369141\n",
      "0.8405361175537109\n",
      "0.8346405029296875\n",
      "0.8947734832763672\n",
      "0.8220806121826172\n",
      "0.8718757629394531\n",
      "0.8808097839355469\n",
      "0.8136672973632812\n",
      "0.8642158508300781\n",
      "0.8673877716064453\n",
      "0.8788661956787109\n",
      "0.8359889984130859\n",
      "0.7876567840576172\n",
      "0.7707977294921875\n",
      "0.838409423828125\n",
      "0.8295021057128906\n",
      "0.7902488708496094\n",
      "0.7974739074707031\n",
      "0.8276882171630859\n",
      "0.8293361663818359\n",
      "0.8014144897460938\n",
      "0.8685588836669922\n",
      "0.87298583984375\n"
     ]
    },
    {
     "ename": "KeyboardInterrupt",
     "evalue": "",
     "output_type": "error",
     "traceback": [
      "\u001b[1;31m---------------------------------------------------------------------------\u001b[0m",
      "\u001b[1;31mKeyboardInterrupt\u001b[0m                         Traceback (most recent call last)",
      "Cell \u001b[1;32mIn[67], line 1\u001b[0m\n\u001b[1;32m----> 1\u001b[0m \u001b[43mcompute_rep_cap_for_circuits\u001b[49m\u001b[43m(\u001b[49m\n\u001b[0;32m      2\u001b[0m \u001b[43m    \u001b[49m\u001b[43mcircuits_save_dir\u001b[49m\u001b[43m,\u001b[49m\u001b[43m \u001b[49m\u001b[43mnum_circs\u001b[49m\u001b[43m,\u001b[49m\u001b[43m \u001b[49m\u001b[43mcirc_prefix\u001b[49m\u001b[43m,\u001b[49m\u001b[43m \u001b[49m\u001b[43mnum_qubits\u001b[49m\u001b[43m,\u001b[49m\u001b[43m \u001b[49m\n\u001b[0;32m      3\u001b[0m \u001b[43m    \u001b[49m\u001b[43mnum_meas_qubits\u001b[49m\u001b[43m,\u001b[49m\u001b[43m \u001b[49m\u001b[43mdataset\u001b[49m\u001b[43m,\u001b[49m\u001b[43m \u001b[49m\u001b[43mnum_classes\u001b[49m\u001b[43m,\u001b[49m\n\u001b[0;32m      4\u001b[0m \u001b[43m    \u001b[49m\u001b[43mnum_samples_per_class\u001b[49m\u001b[43m,\u001b[49m\n\u001b[0;32m      5\u001b[0m \u001b[43m    \u001b[49m\u001b[43mnum_param_samples\u001b[49m\u001b[43m,\u001b[49m\u001b[43m \u001b[49m\u001b[43mencoding_type\u001b[49m\u001b[43m,\u001b[49m\u001b[43m \u001b[49m\n\u001b[0;32m      6\u001b[0m \u001b[43m    \u001b[49m\u001b[43mnum_data_reps\u001b[49m\u001b[43m,\u001b[49m\u001b[43m \u001b[49m\u001b[43msave_matrices\u001b[49m\u001b[43m,\u001b[49m\n\u001b[0;32m      7\u001b[0m \u001b[43m    \u001b[49m\u001b[43mdataset_file_extension\u001b[49m\n\u001b[0;32m      8\u001b[0m \u001b[43m)\u001b[49m\n",
      "File \u001b[1;32mD:\\Quantum_Computing\\Elivagar\\Elivagar\\elivagar\\metric_computation\\compute_rep_cap.py:153\u001b[0m, in \u001b[0;36mcompute_rep_cap_for_circuits\u001b[1;34m(circs_dir, num_circs, circ_prefix, num_qubits, num_meas_qubits, dataset_name, num_classes, sel_samples_per_class, num_param_samples, encoding_type, num_data_reps, save_circ_mats, file_type)\u001b[0m\n\u001b[0;32m    151\u001b[0m \u001b[38;5;28;01mfor\u001b[39;00m i \u001b[38;5;129;01min\u001b[39;00m \u001b[38;5;28mrange\u001b[39m(num_circs):\n\u001b[0;32m    152\u001b[0m     curr_circ_dir \u001b[38;5;241m=\u001b[39m os\u001b[38;5;241m.\u001b[39mpath\u001b[38;5;241m.\u001b[39mjoin(circs_dir, circ_prefix \u001b[38;5;241m+\u001b[39m \u001b[38;5;124mf\u001b[39m\u001b[38;5;124m'\u001b[39m\u001b[38;5;124m_\u001b[39m\u001b[38;5;132;01m{\u001b[39;00mi\u001b[38;5;250m \u001b[39m\u001b[38;5;241m+\u001b[39m\u001b[38;5;250m \u001b[39m\u001b[38;5;241m1\u001b[39m\u001b[38;5;132;01m}\u001b[39;00m\u001b[38;5;124m'\u001b[39m)\n\u001b[1;32m--> 153\u001b[0m     circ_rep_cap \u001b[38;5;241m=\u001b[39m \u001b[43mcompute_rep_cap\u001b[49m\u001b[43m(\u001b[49m\n\u001b[0;32m    154\u001b[0m \u001b[43m        \u001b[49m\u001b[43mcurr_circ_dir\u001b[49m\u001b[43m,\u001b[49m\u001b[43m \u001b[49m\u001b[43mnum_qubits\u001b[49m\u001b[43m,\u001b[49m\u001b[43m \u001b[49m\u001b[43mnum_meas_qubits\u001b[49m\u001b[43m,\u001b[49m\u001b[43m \u001b[49m\u001b[43msel_data\u001b[49m\u001b[43m,\u001b[49m\n\u001b[0;32m    155\u001b[0m \u001b[43m        \u001b[49m\u001b[43mideal\u001b[49m\u001b[43m,\u001b[49m\u001b[43m \u001b[49m\u001b[43mnum_param_samples\u001b[49m\u001b[43m,\u001b[49m\u001b[43m \u001b[49m\u001b[43mnum_classes\u001b[49m\u001b[43m,\u001b[49m\u001b[43m \u001b[49m\u001b[43msave_circ_mats\u001b[49m\n\u001b[0;32m    156\u001b[0m \u001b[43m    \u001b[49m\u001b[43m)\u001b[49m\n\u001b[0;32m    158\u001b[0m     circ_rep_caps\u001b[38;5;241m.\u001b[39mappend(circ_rep_cap)\n\u001b[0;32m    160\u001b[0m np\u001b[38;5;241m.\u001b[39msavetxt(os\u001b[38;5;241m.\u001b[39mpath\u001b[38;5;241m.\u001b[39mjoin(circs_dir, \u001b[38;5;124mf\u001b[39m\u001b[38;5;124m'\u001b[39m\u001b[38;5;124mrep_cap_scores_\u001b[39m\u001b[38;5;132;01m{\u001b[39;00mnum_sel_samples\u001b[38;5;132;01m}\u001b[39;00m\u001b[38;5;124m_\u001b[39m\u001b[38;5;132;01m{\u001b[39;00mnum_param_samples\u001b[38;5;132;01m}\u001b[39;00m\u001b[38;5;124m.txt\u001b[39m\u001b[38;5;124m'\u001b[39m),\n\u001b[0;32m    161\u001b[0m            circ_rep_caps)\n",
      "File \u001b[1;32mD:\\Quantum_Computing\\Elivagar\\Elivagar\\elivagar\\metric_computation\\compute_rep_cap.py:95\u001b[0m, in \u001b[0;36mcompute_rep_cap\u001b[1;34m(circ_dir, num_qubits, num_meas_qubits, data, ideal_matrix, num_param_samples, num_classes, save_circ_mat)\u001b[0m\n\u001b[0;32m     92\u001b[0m \u001b[38;5;28;01mfor\u001b[39;00m i \u001b[38;5;129;01min\u001b[39;00m \u001b[38;5;28mrange\u001b[39m(num_param_samples):\n\u001b[0;32m     93\u001b[0m     set_tq_circ_params(circ, params[i])\n\u001b[1;32m---> 95\u001b[0m     curr_mat \u001b[38;5;241m=\u001b[39m \u001b[43mcompute_reduced_similarity\u001b[49m\u001b[43m(\u001b[49m\u001b[43mcirc\u001b[49m\u001b[43m,\u001b[49m\u001b[43m \u001b[49m\u001b[43mdata\u001b[49m\u001b[43m,\u001b[49m\u001b[43m \u001b[49m\u001b[43mnum_qubits\u001b[49m\u001b[43m,\u001b[49m\u001b[43m \u001b[49m\u001b[43mmeas_qubits\u001b[49m\u001b[43m)\u001b[49m\n\u001b[0;32m     97\u001b[0m     thres_mat \u001b[38;5;241m=\u001b[39m curr_mat \u001b[38;5;241m>\u001b[39m ((np\u001b[38;5;241m.\u001b[39msum(curr_mat) \u001b[38;5;241m-\u001b[39m num_data) \u001b[38;5;241m/\u001b[39m (num_data \u001b[38;5;241m*\u001b[39m (num_data \u001b[38;5;241m-\u001b[39m \u001b[38;5;241m1\u001b[39m)))\n\u001b[0;32m     98\u001b[0m     circ_mean_thres_mat \u001b[38;5;241m+\u001b[39m\u001b[38;5;241m=\u001b[39m thres_mat \u001b[38;5;241m/\u001b[39m num_param_samples\n",
      "File \u001b[1;32mD:\\Quantum_Computing\\Elivagar\\Elivagar\\elivagar\\metric_computation\\compute_rep_cap.py:38\u001b[0m, in \u001b[0;36mcompute_reduced_similarity\u001b[1;34m(circ, data, num_qubits, meas_qubits)\u001b[0m\n\u001b[0;32m     36\u001b[0m density_matrix \u001b[38;5;241m=\u001b[39m np\u001b[38;5;241m.\u001b[39mmatmul(np\u001b[38;5;241m.\u001b[39mconj(out_states[i:i \u001b[38;5;241m+\u001b[39m \u001b[38;5;241m1\u001b[39m]\u001b[38;5;241m.\u001b[39mT), out_states[i:i\u001b[38;5;241m+\u001b[39m\u001b[38;5;241m1\u001b[39m])\n\u001b[0;32m     37\u001b[0m out_qobj \u001b[38;5;241m=\u001b[39m Qobj(density_matrix, dims\u001b[38;5;241m=\u001b[39m[[\u001b[38;5;241m2\u001b[39m] \u001b[38;5;241m*\u001b[39m num_qubits] \u001b[38;5;241m*\u001b[39m \u001b[38;5;241m2\u001b[39m)\n\u001b[1;32m---> 38\u001b[0m circ_dm \u001b[38;5;241m=\u001b[39m \u001b[43mout_qobj\u001b[49m\u001b[38;5;241;43m.\u001b[39;49m\u001b[43mptrace\u001b[49m\u001b[43m(\u001b[49m\u001b[43mmeas_qubits\u001b[49m\u001b[43m)\u001b[49m\u001b[38;5;241m.\u001b[39mfull()\n\u001b[0;32m     40\u001b[0m traces\u001b[38;5;241m.\u001b[39mappend(np\u001b[38;5;241m.\u001b[39mtrace(circ_dm))\n\u001b[0;32m     41\u001b[0m circ_dms\u001b[38;5;241m.\u001b[39mappend(circ_dm\u001b[38;5;241m.\u001b[39mdata)\n",
      "File \u001b[1;32mD:\\Quantum_Computing\\Elivagar\\Elivagar\\elivagar_venv\\lib\\site-packages\\qutip\\qobj.py:1366\u001b[0m, in \u001b[0;36mQobj.ptrace\u001b[1;34m(self, sel, sparse)\u001b[0m\n\u001b[0;32m   1364\u001b[0m     out \u001b[38;5;241m=\u001b[39m q\u001b[38;5;241m.\u001b[39mtidyup() \u001b[38;5;28;01mif\u001b[39;00m settings\u001b[38;5;241m.\u001b[39mauto_tidyup \u001b[38;5;28;01melse\u001b[39;00m q\n\u001b[0;32m   1365\u001b[0m \u001b[38;5;28;01melse\u001b[39;00m:\n\u001b[1;32m-> 1366\u001b[0m     out \u001b[38;5;241m=\u001b[39m \u001b[43m_ptrace_dense\u001b[49m\u001b[43m(\u001b[49m\u001b[38;5;28;43mself\u001b[39;49m\u001b[43m,\u001b[49m\u001b[43m \u001b[49m\u001b[43msel\u001b[49m\u001b[43m)\u001b[49m\n\u001b[0;32m   1367\u001b[0m \u001b[38;5;28;01mif\u001b[39;00m isket(out):\n\u001b[0;32m   1368\u001b[0m     out \u001b[38;5;241m=\u001b[39m out\u001b[38;5;241m.\u001b[39mproj()\n",
      "File \u001b[1;32mD:\\Quantum_Computing\\Elivagar\\Elivagar\\elivagar_venv\\lib\\site-packages\\qutip\\qobj.py:2226\u001b[0m, in \u001b[0;36m_ptrace_dense\u001b[1;34m(Q, sel)\u001b[0m\n\u001b[0;32m   2224\u001b[0m \u001b[38;5;28;01melse\u001b[39;00m:\n\u001b[0;32m   2225\u001b[0m     sel \u001b[38;5;241m=\u001b[39m np\u001b[38;5;241m.\u001b[39masarray(sel)\n\u001b[1;32m-> 2226\u001b[0m sel \u001b[38;5;241m=\u001b[39m \u001b[38;5;28mlist\u001b[39m(\u001b[43mnp\u001b[49m\u001b[38;5;241;43m.\u001b[39;49m\u001b[43msort\u001b[49m\u001b[43m(\u001b[49m\u001b[43msel\u001b[49m\u001b[43m)\u001b[49m)\n\u001b[0;32m   2227\u001b[0m \u001b[38;5;28;01mfor\u001b[39;00m x \u001b[38;5;129;01min\u001b[39;00m sel:\n\u001b[0;32m   2228\u001b[0m     \u001b[38;5;28;01mif\u001b[39;00m \u001b[38;5;129;01mnot\u001b[39;00m \u001b[38;5;241m0\u001b[39m \u001b[38;5;241m<\u001b[39m\u001b[38;5;241m=\u001b[39m x \u001b[38;5;241m<\u001b[39m \u001b[38;5;28mlen\u001b[39m(rd):\n",
      "File \u001b[1;32m<__array_function__ internals>:180\u001b[0m, in \u001b[0;36msort\u001b[1;34m(*args, **kwargs)\u001b[0m\n",
      "File \u001b[1;32mD:\\Quantum_Computing\\Elivagar\\Elivagar\\elivagar_venv\\lib\\site-packages\\numpy\\core\\fromnumeric.py:1003\u001b[0m, in \u001b[0;36msort\u001b[1;34m(a, axis, kind, order)\u001b[0m\n\u001b[0;32m   1001\u001b[0m     axis \u001b[38;5;241m=\u001b[39m \u001b[38;5;241m-\u001b[39m\u001b[38;5;241m1\u001b[39m\n\u001b[0;32m   1002\u001b[0m \u001b[38;5;28;01melse\u001b[39;00m:\n\u001b[1;32m-> 1003\u001b[0m     a \u001b[38;5;241m=\u001b[39m \u001b[43masanyarray\u001b[49m\u001b[43m(\u001b[49m\u001b[43ma\u001b[49m\u001b[43m)\u001b[49m\u001b[38;5;241;43m.\u001b[39;49m\u001b[43mcopy\u001b[49m\u001b[43m(\u001b[49m\u001b[43morder\u001b[49m\u001b[38;5;241;43m=\u001b[39;49m\u001b[38;5;124;43m\"\u001b[39;49m\u001b[38;5;124;43mK\u001b[39;49m\u001b[38;5;124;43m\"\u001b[39;49m\u001b[43m)\u001b[49m\n\u001b[0;32m   1004\u001b[0m a\u001b[38;5;241m.\u001b[39msort(axis\u001b[38;5;241m=\u001b[39maxis, kind\u001b[38;5;241m=\u001b[39mkind, order\u001b[38;5;241m=\u001b[39morder)\n\u001b[0;32m   1005\u001b[0m \u001b[38;5;28;01mreturn\u001b[39;00m a\n",
      "\u001b[1;31mKeyboardInterrupt\u001b[0m: "
     ]
    }
   ],
   "source": [
    "compute_rep_cap_for_circuits(\n",
    "    circuits_save_dir, num_circs, circ_prefix, num_qubits, \n",
    "    num_meas_qubits, dataset, num_classes,\n",
    "    num_samples_per_class,\n",
    "    num_param_samples, encoding_type, \n",
    "    num_data_reps, save_matrices,\n",
    "    dataset_file_extension\n",
    ")"
   ]
  },
  {
   "cell_type": "markdown",
   "id": "33b515d6",
   "metadata": {},
   "source": [
    "## Compute composite scores for candidate circuits and train best circuit\n",
    "\n",
    "Now that we have computed both CNR and RepCap scores for the candidate circuits, we can combine the two to create composite scores for each circuit. To decide the relative importances of CNR and RepCap in the composite score, we set a hyperparameter - setting it to 1 results in equal importance being given to both CNR and RepCap. Here we will use a value of 0.5 due to the relatively high noise levels on the OQC Lucy device; the optimal value to use for other devices will likely be lower. In general, the higher the noise level, the higher the optimal CNR importance value.\n",
    "\n",
    "Once we complete computing the composite scores, we can select the circuit with the highest composite score, and train it on the target dataset using a noiseless simulator. After training the circuit, we can evaluate it on the test portion of the target dataset before moving to running circuits on a real device. We do this to get a ballpark figure for the performance we can expect when we deploy the circuit on OQC Lucy, which is likely to be a little worse due to hardware noise."
   ]
  },
  {
   "cell_type": "code",
   "execution_count": null,
   "id": "199c304d",
   "metadata": {},
   "outputs": [],
   "source": [
    "circuits_save_dir = './candidate_circuits'\n",
    "dataset = 'mnist_2'\n",
    "encoding_type = 'angle'\n",
    "num_data_reps = 1\n",
    "device_name = 'oqc_lucy'\n",
    "num_epochs = 200\n",
    "batch_size = 256\n",
    "num_qubits = 4\n",
    "num_meas_qubits = 1\n",
    "num_data_for_rep_cap = 32\n",
    "num_params_for_rep_cap = 32\n",
    "num_cdcs = 32\n",
    "num_candidates_per_circ = 250\n",
    "num_circs = 250\n",
    "num_runs_per_circ = 5\n",
    "noise_importance = 0.5\n",
    "save_dir = './trained_circuit'\n",
    "learning_rate = 0.01"
   ]
  },
  {
   "cell_type": "code",
   "execution_count": null,
   "id": "b85d7258",
   "metadata": {},
   "outputs": [],
   "source": [
    "train_elivagar_circuits(\n",
    "    args.circs_dir, args.dataset, args.encoding_type, \n",
    "    args.num_data_reps, args.device_name, args.num_epochs, args.batch_size,\n",
    "    args.num_qubits, args.num_meas_qubits,\n",
    "    args.num_data_for_rep_cap, args.num_params_for_rep_cap,\n",
    "    args.num_cdcs, args.num_candidates_per_circ,\n",
    "    args.num_circs, args.num_runs_per_circ, args.noise_importance,\n",
    "    args.save_dir, args.learning_rate\n",
    ")"
   ]
  },
  {
   "cell_type": "markdown",
   "id": "324b8e38",
   "metadata": {},
   "source": [
    "## Evaluate circuit on target device\n",
    "\n",
    "Finally, we can evaluate the circuit on our target hardware, the OQC Lucy device:"
   ]
  },
  {
   "cell_type": "code",
   "execution_count": null,
   "id": "9df687f2",
   "metadata": {},
   "outputs": [],
   "source": []
  }
 ],
 "metadata": {
  "kernelspec": {
   "display_name": "elivagar_venv",
   "language": "python",
   "name": "elivagar_venv"
  },
  "language_info": {
   "codemirror_mode": {
    "name": "ipython",
    "version": 3
   },
   "file_extension": ".py",
   "mimetype": "text/x-python",
   "name": "python",
   "nbconvert_exporter": "python",
   "pygments_lexer": "ipython3",
   "version": "3.9.6"
  }
 },
 "nbformat": 4,
 "nbformat_minor": 5
}
